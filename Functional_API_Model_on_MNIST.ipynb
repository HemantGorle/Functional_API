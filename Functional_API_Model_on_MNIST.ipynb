{
  "nbformat": 4,
  "nbformat_minor": 0,
  "metadata": {
    "colab": {
      "name": "Functional API Model on MNIST.ipynb",
      "provenance": [],
      "authorship_tag": "ABX9TyOKKDQ4jbHEPgdkt8YXe32Y",
      "include_colab_link": true
    },
    "kernelspec": {
      "name": "python3",
      "display_name": "Python 3"
    },
    "language_info": {
      "name": "python"
    },
    "accelerator": "GPU"
  },
  "cells": [
    {
      "cell_type": "markdown",
      "metadata": {
        "id": "view-in-github",
        "colab_type": "text"
      },
      "source": [
        "<a href=\"https://colab.research.google.com/github/HemantGorle/Functional_API/blob/main/Functional_API_Model_on_MNIST.ipynb\" target=\"_parent\"><img src=\"https://colab.research.google.com/assets/colab-badge.svg\" alt=\"Open In Colab\"/></a>"
      ]
    },
    {
      "cell_type": "code",
      "metadata": {
        "id": "7oD9du2CZnAU"
      },
      "source": [
        "# importing dependencies\n",
        "import os\n",
        "os.environ[\"TF_CPP_MIN_LOG_LEVEL\"] = \"2\" # this is to suppress TensorFlow warnings and information\n",
        "\n",
        "import tensorflow as tf\n",
        "from tensorflow import keras\n",
        "from tensorflow.keras import layers\n",
        "from keras.layers import Conv2D, MaxPooling2D, Flatten, Dropout\n",
        "from tensorflow.keras.layers import Input, InputLayer \n",
        "from tensorflow.keras.datasets import mnist # imporing mnist dataset\n"
      ],
      "execution_count": 22,
      "outputs": []
    },
    {
      "cell_type": "code",
      "metadata": {
        "id": "Y460Bz2uZvU5"
      },
      "source": [
        "# downloading data in train, test split format\n",
        "\n",
        "(x_train, y_train), (x_test, y_test) = mnist.load_data() # mnist data is stored with train-test split \n",
        "x_train = x_train.reshape(-1, 28 * 28).astype(\"float32\") / 255.0 # normalizing the input by dividing 255 \n",
        "x_test = x_test.reshape(-1, 28 * 28).astype(\"float32\") / 255.0"
      ],
      "execution_count": 15,
      "outputs": []
    },
    {
      "cell_type": "code",
      "metadata": {
        "id": "gsVflKimZ-mK"
      },
      "source": [
        "# defining functional model with 3 layers and one output layer\n",
        "inputs = keras.Input(shape = (28*28)) # define input\n",
        "x = layers.Dense(512, activation = \"relu\", name = \"first_layer\")(inputs)\n",
        "x = layers.Dense(256, activation = \"relu\", name = \"second_layer\")(x)\n",
        "x = layers.Dense(128, activation = \"relu\", name = \"third_layer\")(x)\n",
        "x = Dropout(0.5)(x)\n",
        "\n",
        "# define output\n",
        "outputs = layers.Dense(10, activation = \"softmax\")(x) # using softmax on output layer, 10 nodes as we have 10 output digit\n",
        "\n",
        "# functional model\n",
        "model = keras.Model(inputs = inputs, outputs = outputs)\n"
      ],
      "execution_count": 31,
      "outputs": []
    },
    {
      "cell_type": "code",
      "metadata": {
        "colab": {
          "base_uri": "https://localhost:8080/"
        },
        "id": "H81E5cLmrR_x",
        "outputId": "cc194004-e8fa-42e1-d397-a0c0030582b3"
      },
      "source": [
        "# print model summary\n",
        "model.summary()"
      ],
      "execution_count": 32,
      "outputs": [
        {
          "output_type": "stream",
          "text": [
            "Model: \"model_4\"\n",
            "_________________________________________________________________\n",
            "Layer (type)                 Output Shape              Param #   \n",
            "=================================================================\n",
            "input_6 (InputLayer)         [(None, 784)]             0         \n",
            "_________________________________________________________________\n",
            "first_layer (Dense)          (None, 512)               401920    \n",
            "_________________________________________________________________\n",
            "second_layer (Dense)         (None, 256)               131328    \n",
            "_________________________________________________________________\n",
            "third_layer (Dense)          (None, 128)               32896     \n",
            "_________________________________________________________________\n",
            "tf.identity_2 (TFOpLambda)   (None, 128)               0         \n",
            "_________________________________________________________________\n",
            "dense_4 (Dense)              (None, 10)                1290      \n",
            "=================================================================\n",
            "Total params: 567,434\n",
            "Trainable params: 567,434\n",
            "Non-trainable params: 0\n",
            "_________________________________________________________________\n"
          ],
          "name": "stdout"
        }
      ]
    },
    {
      "cell_type": "code",
      "metadata": {
        "id": "fxmTKQr0aC0b"
      },
      "source": [
        "# compiling model \n",
        "model.compile(\n",
        "    loss = keras.losses.SparseCategoricalCrossentropy(),\n",
        "    optimizer = keras.optimizers.Adam(learning_rate = 0.001),\n",
        "    metrics = \"accuracy\"\n",
        ")"
      ],
      "execution_count": 33,
      "outputs": []
    },
    {
      "cell_type": "code",
      "metadata": {
        "colab": {
          "base_uri": "https://localhost:8080/"
        },
        "id": "kOTw3SigaE_T",
        "outputId": "b1236561-a7de-4f5e-ef38-dcb7a559725f"
      },
      "source": [
        "# fitting the model on training data with batch size 64 and 10 epochs\n",
        "history = model.fit(x_train, y_train, batch_size = 64, epochs = 10, verbose = 2, validation_data = (x_test, y_test))"
      ],
      "execution_count": 34,
      "outputs": [
        {
          "output_type": "stream",
          "text": [
            "Epoch 1/10\n",
            "938/938 - 3s - loss: 0.2020 - accuracy: 0.9386 - val_loss: 0.1034 - val_accuracy: 0.9681\n",
            "Epoch 2/10\n",
            "938/938 - 2s - loss: 0.0820 - accuracy: 0.9745 - val_loss: 0.0810 - val_accuracy: 0.9732\n",
            "Epoch 3/10\n",
            "938/938 - 2s - loss: 0.0563 - accuracy: 0.9821 - val_loss: 0.0697 - val_accuracy: 0.9798\n",
            "Epoch 4/10\n",
            "938/938 - 2s - loss: 0.0453 - accuracy: 0.9854 - val_loss: 0.1061 - val_accuracy: 0.9699\n",
            "Epoch 5/10\n",
            "938/938 - 2s - loss: 0.0329 - accuracy: 0.9893 - val_loss: 0.0873 - val_accuracy: 0.9774\n",
            "Epoch 6/10\n",
            "938/938 - 2s - loss: 0.0289 - accuracy: 0.9904 - val_loss: 0.0701 - val_accuracy: 0.9808\n",
            "Epoch 7/10\n",
            "938/938 - 2s - loss: 0.0246 - accuracy: 0.9920 - val_loss: 0.0710 - val_accuracy: 0.9817\n",
            "Epoch 8/10\n",
            "938/938 - 2s - loss: 0.0216 - accuracy: 0.9932 - val_loss: 0.0724 - val_accuracy: 0.9812\n",
            "Epoch 9/10\n",
            "938/938 - 2s - loss: 0.0197 - accuracy: 0.9936 - val_loss: 0.0903 - val_accuracy: 0.9785\n",
            "Epoch 10/10\n",
            "938/938 - 2s - loss: 0.0184 - accuracy: 0.9943 - val_loss: 0.0813 - val_accuracy: 0.9794\n"
          ],
          "name": "stdout"
        }
      ]
    },
    {
      "cell_type": "code",
      "metadata": {
        "colab": {
          "base_uri": "https://localhost:8080/",
          "height": 573
        },
        "id": "yMoJxRb30brX",
        "outputId": "34265ca2-65d0-4469-d605-3ebb57d6d331"
      },
      "source": [
        "history_dict = model.history\n",
        "history_dict.history.keys()\n",
        "\n",
        "# summarize history for accuracy\n",
        "plt.plot(history.history['accuracy'])\n",
        "plt.plot(history.history['val_accuracy'])\n",
        "plt.title('model accuracy')\n",
        "plt.ylabel('accuracy')\n",
        "plt.xlabel('epoch')\n",
        "plt.legend(['train', 'test'], loc='upper left')\n",
        "plt.show()\n",
        "\n",
        "# summarize history for loss\n",
        "plt.plot(history.history['loss'])\n",
        "plt.plot(history.history['val_loss'])\n",
        "plt.title('model loss')\n",
        "plt.ylabel('loss')\n",
        "plt.xlabel('epoch')\n",
        "plt.legend(['train', 'test'], loc='upper left')\n",
        "plt.show()"
      ],
      "execution_count": 35,
      "outputs": [
        {
          "output_type": "display_data",
          "data": {
            "image/png": "[encoded data removed]",
            "text/plain": [
              "<Figure size 432x288 with 1 Axes>"
            ]
          },
          "metadata": {
            "tags": [],
            "needs_background": "light"
          }
        },
        {
          "output_type": "display_data",
          "data": {
            "image/png": "[encoded data removed]",
            "text/plain": [
              "<Figure size 432x288 with 1 Axes>"
            ]
          },
          "metadata": {
            "tags": [],
            "needs_background": "light"
          }
        }
      ]
    }
  ]
}